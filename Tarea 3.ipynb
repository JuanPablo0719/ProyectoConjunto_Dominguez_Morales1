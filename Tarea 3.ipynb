{
 "cells": [
  {
   "cell_type": "markdown",
   "metadata": {},
   "source": [
    "<img style=\"float: left; margin: 30px 15px 15px 15px;\" src=\"https://pngimage.net/wp-content/uploads/2018/06/logo-iteso-png-5.png\" width=\"300\" height=\"500\" /> \n",
    "    \n",
    "    \n",
    "### <font color='navy'> Simulación de procesos financieros. \n",
    "\n",
    "**Nombres:** Juan Pablo Dominguez Rodriguez, José de Jesús Morales Dominguez.\n",
    "\n",
    "**Fecha:** 14 de febrero del 2024-.\n",
    "\n",
    "**Expediente** : 735196, 742298.\n",
    "**Profesor:** Oscar David Jaramillo Zuluaga.\n",
    "    \n",
    "**Link Github**: Link con el enlace del repositorio del creador del proyecto\n",
    "\n",
    "# Tarea 3: Clase Números pseudoaleatorios"
   ]
  },
  {
   "cell_type": "markdown",
   "metadata": {},
   "source": [
    " ## Tarea 3: (Usando notebook de jupyter)** \n",
    "\n",
    "> Usando compresión de listas o funciones map(sino recuerda como funciona observar el siguiente enlace https://www.pythonforbeginners.com/lists/list-comprehensions-in-python/), resolver los siguientes ejercicios:"
   ]
  },
  {
   "cell_type": "markdown",
   "metadata": {},
   "source": [
    "### Ejercicio 1: Resolver la siguiente ecuación recursiva usando funciones como se vió en clase\n",
    "$$ D_{n}=(n-1) D_{n-1}+(n-1) D_{n-2} \\quad n\\ge 3$$\n",
    "con $D_1=0$ y $D_2 = 1$"
   ]
  },
  {
   "cell_type": "markdown",
   "metadata": {},
   "source": [
    "Código de solución estudiante 1"
   ]
  },
  {
   "cell_type": "code",
   "execution_count": null,
   "metadata": {},
   "outputs": [],
   "source": [
    "# Código de solución estudiante 1\n",
    "\n",
    "n = 3\n",
    "\n",
    "def calcular_D_n(n):\n",
    "    # Condiciones iniciales\n",
    "    if n == 1:\n",
    "        return 0\n",
    "    elif n == 2:\n",
    "        return 1\n",
    "    \n",
    "    else:\n",
    "        return (n-1) * calcular_D_n(n-1) + (n-1) * calcular_D_n(n-2)\n",
    "\n",
    "\n",
    "resultado = calcular_D_n(n)\n",
    "print(f\"D_{n} =\", resultado)\n"
   ]
  },
  {
   "cell_type": "markdown",
   "metadata": {},
   "source": [
    "Código de solución estudiante 2"
   ]
  },
  {
   "cell_type": "code",
   "execution_count": null,
   "metadata": {},
   "outputs": [],
   "source": [
    "# Código de solución estudiante 2\n"
   ]
  },
  {
   "cell_type": "markdown",
   "metadata": {},
   "source": [
    "### Ejercicio 2: Count the number of spaces in the following string \n",
    "`variable =  relaciónn  requiere,  para obtener  el  valor  de un  cierto  término,  el conocimiento de los dos anteriores`."
   ]
  },
  {
   "cell_type": "code",
   "execution_count": null,
   "metadata": {},
   "outputs": [],
   "source": [
    "# Código de solución estudiante 1\n",
    "\n",
    "# Definir la cadena de texto\n",
    "variable = \"relaciónn requiere, para obtener el valor de un cierto término, el conocimiento de los dos anteriores.\"\n",
    "\n",
    "numero_de_espacios = variable.count(\" \")\n",
    "\n",
    "print(\"El número de espacios en la cadena es:\", numero_de_espacios)\n"
   ]
  },
  {
   "cell_type": "code",
   "execution_count": null,
   "metadata": {},
   "outputs": [],
   "source": [
    "# Código de solución estudiante 2\n"
   ]
  },
  {
   "cell_type": "markdown",
   "metadata": {},
   "source": [
    "### Ejercicio 3: Remove all of the vowels in a string [make a list of the non-vowels]."
   ]
  },
  {
   "cell_type": "code",
   "execution_count": null,
   "metadata": {},
   "outputs": [],
   "source": [
    "# Código de solución estudiante 1\n",
    "\n",
    "cadena = \"relaciónn requiere, para obtener el valor de un cierto término, el conocimiento de los dos anteriores.\"\n",
    "\n",
    "vocales = ['a', 'e', 'i', 'o', 'u', 'á', 'é', 'í', 'ó', 'ú']\n",
    "\n",
    "no_vocales = []\n",
    "\n",
    "for caracter in cadena:\n",
    "    caracter = caracter.lower()\n",
    "    if caracter not in vocales:\n",
    "        no_vocales.append(caracter)\n",
    "\n",
    "print(\"Lista de caracteres que no son vocales:\", no_vocales)\n"
   ]
  },
  {
   "cell_type": "code",
   "execution_count": null,
   "metadata": {},
   "outputs": [],
   "source": [
    "# Código de solución estudiante 2\n"
   ]
  },
  {
   "cell_type": "markdown",
   "metadata": {},
   "source": [
    "### Ejercicio 4: Find all of the words in a string that are less than 4 letters."
   ]
  },
  {
   "cell_type": "code",
   "execution_count": null,
   "metadata": {},
   "outputs": [],
   "source": [
    "# Código de solución estudiante 1\n",
    "\n",
    "cadena = \"relaciónn requiere, para obtener el valor de un cierto término, el conocimiento de los dos anteriores.\"\n",
    "\n",
    "# Dividir la cadena en palabras\n",
    "palabras = cadena.split()\n",
    "\n",
    "# Filtrar las palabras que tienen menos de 4 letras\n",
    "palabras_menos_de_4_letras = [palabra for palabra in palabras if len(palabra) < 4]\n",
    "\n",
    "print(\"Palabras con menos de 4 letras:\", palabras_menos_de_4_letras)\n"
   ]
  },
  {
   "cell_type": "code",
   "execution_count": null,
   "metadata": {},
   "outputs": [],
   "source": [
    "# Código de solución estudiante 2\n"
   ]
  },
  {
   "cell_type": "markdown",
   "metadata": {},
   "source": [
    "### Ejercicio 5: Use a dictionary comprehension to count the length of each word in a sentence. "
   ]
  },
  {
   "cell_type": "code",
   "execution_count": null,
   "metadata": {},
   "outputs": [],
   "source": [
    "# Código de solución estudiante 1\n",
    "\n",
    "oracion = \"relaciónn requiere, para obtener el valor de un cierto término, el conocimiento de los dos anteriores.\"\n",
    "\n",
    "longitud_palabras = {palabra: len(palabra) for palabra in oracion.split()}\n",
    "\n",
    "print(\"Longitud de cada palabra en la oración:\", longitud_palabras)\n"
   ]
  },
  {
   "cell_type": "code",
   "execution_count": null,
   "metadata": {},
   "outputs": [],
   "source": [
    "# Código de solución estudiante 2\n"
   ]
  },
  {
   "cell_type": "markdown",
   "metadata": {},
   "source": [
    "### Ejercicio 6: Use a nested list comprehension to find all of the numbers from 1-1000 that are divisible by any single digit besides 1 (2-9). "
   ]
  },
  {
   "cell_type": "code",
   "execution_count": null,
   "metadata": {},
   "outputs": [],
   "source": [
    "# Código de solución estudiante 1\n",
    "\n",
    "divisibles = [num for num in range(1, 1001) if any(num % i == 0 for i in range(2, 10))]\n",
    "\n",
    "print(\"Números divisibles por cualquier dígito del 2 al 9:\", divisibles)\n"
   ]
  },
  {
   "cell_type": "code",
   "execution_count": 2,
   "metadata": {},
   "outputs": [],
   "source": [
    "# Código de solución estudiante 2\n"
   ]
  }
 ],
 "metadata": {
  "kernelspec": {
   "display_name": "Python 3 (ipykernel)",
   "language": "python",
   "name": "python3"
  },
  "language_info": {
   "codemirror_mode": {
    "name": "ipython",
    "version": 3
   },
   "file_extension": ".py",
   "mimetype": "text/x-python",
   "name": "python",
   "nbconvert_exporter": "python",
   "pygments_lexer": "ipython3",
   "version": "3.9.13"
  }
 },
 "nbformat": 4,
 "nbformat_minor": 2
}
